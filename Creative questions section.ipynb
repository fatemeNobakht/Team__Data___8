{
 "cells": [
  {
   "cell_type": "markdown",
   "metadata": {},
   "source": [
    "# Requirements"
   ]
  },
  {
   "cell_type": "code",
   "execution_count": 2,
   "metadata": {},
   "outputs": [],
   "source": [
    "import pandas as pd\n",
    "import os\n",
    "import matplotlib.pyplot as plt\n",
    "import seaborn as sns"
   ]
  },
  {
   "cell_type": "markdown",
   "metadata": {},
   "source": [
    "# Loading Data"
   ]
  },
  {
   "cell_type": "code",
   "execution_count": 4,
   "metadata": {},
   "outputs": [],
   "source": [
    "for file in os.listdir(r'tennis_data/tennis_csv'):\n",
    "    df_name = file.split('.')[0]\n",
    "    globals()[df_name] = pd.read_csv(r'tennis_data/tennis_csv/' + file)"
   ]
  },
  {
   "cell_type": "markdown",
   "metadata": {},
   "source": [
    "# Creative questions"
   ]
  },
  {
   "cell_type": "markdown",
   "metadata": {},
   "source": [
    "### 1. The least risky matchs to bet on\n",
    "### 2. Which physical factor has the greatest impact on the service score\n",
    "### 3. Calculate the win-loss ratio for each player\n",
    "### 4. How did the winners of the game get the most points?\n",
    "### 5. Does being from the same country as the player and the tournament affect the player's win?\n",
    "### 6. assuming that votes table are fan's predictions it has affect the player's win ?\n",
    "### 7. what is the corrolation between votes and bet on players\n",
    "### 8. wich seed has most win ?\n",
    "### 9. wich player got the most points ?\n",
    "### 10. is any corrolation between first serve and winning ?\n",
    "### 11. wich season has players with high rank ?\n",
    "### 12. whch catagory of statitics has most affect to winning ?\n",
    "### 13.* countries with most wins \n",
    "### 14.* countries with most players\n",
    "### 15.* countries with most hight rank players"
   ]
  },
  {
   "cell_type": "markdown",
   "metadata": {},
   "source": [
    "<hr style=\"border:8px solid gray\">"
   ]
  },
  {
   "cell_type": "code",
   "execution_count": 12,
   "metadata": {},
   "outputs": [
    {
     "name": "stderr",
     "output_type": "stream",
     "text": [
      "C:\\Users\\Lenovo\\AppData\\Local\\Temp\\ipykernel_10552\\1004059285.py:2: SettingWithCopyWarning: \n",
      "A value is trying to be set on a copy of a slice from a DataFrame.\n",
      "Try using .loc[row_indexer,col_indexer] = value instead\n",
      "\n",
      "See the caveats in the documentation: https://pandas.pydata.org/pandas-docs/stable/user_guide/indexing.html#returning-a-view-versus-a-copy\n",
      "  match_win_month['start_datetime'] = pd.to_datetime(match_win_month['start_datetime'], unit='s')\n",
      "C:\\Users\\Lenovo\\AppData\\Local\\Temp\\ipykernel_10552\\1004059285.py:3: SettingWithCopyWarning: \n",
      "A value is trying to be set on a copy of a slice from a DataFrame.\n",
      "Try using .loc[row_indexer,col_indexer] = value instead\n",
      "\n",
      "See the caveats in the documentation: https://pandas.pydata.org/pandas-docs/stable/user_guide/indexing.html#returning-a-view-versus-a-copy\n",
      "  match_win_month['month'] = match_win_month['start_datetime'].dt.month\n",
      "C:\\Users\\Lenovo\\AppData\\Local\\Temp\\ipykernel_10552\\1004059285.py:4: SettingWithCopyWarning: \n",
      "A value is trying to be set on a copy of a slice from a DataFrame\n",
      "\n",
      "See the caveats in the documentation: https://pandas.pydata.org/pandas-docs/stable/user_guide/indexing.html#returning-a-view-versus-a-copy\n",
      "  match_win_month.drop(columns=['start_datetime'], inplace=True)\n"
     ]
    }
   ],
   "source": [
    "match_win_month = df_event[['match_id', 'winner_code', 'start_datetime']]\n",
    "match_win_month['start_datetime'] = pd.to_datetime(match_win_month['start_datetime'], unit='s')\n",
    "match_win_month['month'] = match_win_month['start_datetime'].dt.month\n",
    "match_win_month.drop(columns=['start_datetime'], inplace=True)\n",
    "match_win_month.dropna().shape\n",
    "match_h_player = df_home_team[['match_id', 'name']].drop_duplicates()\n",
    "match_a_player = df_away_team[['match_id', 'name']].drop_duplicates()\n",
    "win_h_player = pd.merge(match_win_month.loc[match_win_month['winner_code'] == 1], match_h_player, on='match_id')\n",
    "win_h_player.drop_duplicates(subset = ['match_id'], keep = 'first', inplace = True)\n",
    "win_h_player.dropna(inplace = True)\n",
    "win_a_player = pd.merge(match_win_month.loc[match_win_month['winner_code'] == 2], match_a_player, on='match_id')\n",
    "win_a_player.drop_duplicates(subset = ['match_id'], keep = 'first', inplace = True)\n",
    "win_a_player.dropna(inplace = True)\n",
    "winners_name = pd.concat([win_h_player, win_a_player], axis = 0, ignore_index = True)"
   ]
  },
  {
   "cell_type": "markdown",
   "metadata": {},
   "source": [
    "## 1. The least risky matchs to bet on"
   ]
  },
  {
   "cell_type": "code",
   "execution_count": null,
   "metadata": {},
   "outputs": [],
   "source": [
    "df_odds.dropna(axis='rows', inplace=True)\n",
    "df_odds.drop(columns='is_live', inplace=True)\n",
    "df_odds.drop(columns='suspended', inplace=True)"
   ]
  },
  {
   "cell_type": "code",
   "execution_count": 13,
   "metadata": {},
   "outputs": [],
   "source": [
    "df_odds['fractional_value'] = df_odds['fractional_value'].replace('1/', '1')\n",
    "df_odds['fractional_value'] = df_odds['fractional_value'].replace('13/', '1/3')\n",
    "df_odds['fractional_value'] = df_odds['fractional_value'].replace('4/', '3/4')"
   ]
  },
  {
   "cell_type": "code",
   "execution_count": 8,
   "metadata": {},
   "outputs": [],
   "source": [
    "df_odds['fractional_value'] = df_odds['fractional_value'].apply(lambda x: eval(x) if '/' in x else float(x))"
   ]
  },
  {
   "cell_type": "code",
   "execution_count": 14,
   "metadata": {},
   "outputs": [],
   "source": [
    "match_fraction_win = df_odds[['match_id','market_name', 'choice_name', 'fractional_value', 'winnig']]\n",
    "match_wname_wcode = winners_name[['match_id', 'name', 'winner_code']].rename(columns={'name' : 'winner_name'})\n",
    "wname_fraction = pd.merge(match_fraction_win, match_wname_wcode, on='match_id')"
   ]
  },
  {
   "cell_type": "code",
   "execution_count": null,
   "metadata": {},
   "outputs": [
    {
     "data": {
      "text/html": [
       "<div>\n",
       "<style scoped>\n",
       "    .dataframe tbody tr th:only-of-type {\n",
       "        vertical-align: middle;\n",
       "    }\n",
       "\n",
       "    .dataframe tbody tr th {\n",
       "        vertical-align: top;\n",
       "    }\n",
       "\n",
       "    .dataframe thead th {\n",
       "        text-align: right;\n",
       "    }\n",
       "</style>\n",
       "<table border=\"1\" class=\"dataframe\">\n",
       "  <thead>\n",
       "    <tr style=\"text-align: right;\">\n",
       "      <th></th>\n",
       "      <th>match_id</th>\n",
       "      <th>market_name</th>\n",
       "      <th>choice_name</th>\n",
       "      <th>fractional_value</th>\n",
       "      <th>winnig</th>\n",
       "      <th>winner_name</th>\n",
       "      <th>winner_code</th>\n",
       "    </tr>\n",
       "  </thead>\n",
       "  <tbody>\n",
       "    <tr>\n",
       "      <th>1</th>\n",
       "      <td>11673958</td>\n",
       "      <td>full_time</td>\n",
       "      <td>2</td>\n",
       "      <td>0.830000</td>\n",
       "      <td>True</td>\n",
       "      <td>Tirante T.</td>\n",
       "      <td>2.0</td>\n",
       "    </tr>\n",
       "    <tr>\n",
       "      <th>3</th>\n",
       "      <td>11673958</td>\n",
       "      <td>first_set_winner</td>\n",
       "      <td>2</td>\n",
       "      <td>0.833333</td>\n",
       "      <td>True</td>\n",
       "      <td>Tirante T.</td>\n",
       "      <td>2.0</td>\n",
       "    </tr>\n",
       "    <tr>\n",
       "      <th>5</th>\n",
       "      <td>11673958</td>\n",
       "      <td>total_games_won</td>\n",
       "      <td>Under</td>\n",
       "      <td>0.909091</td>\n",
       "      <td>True</td>\n",
       "      <td>Tirante T.</td>\n",
       "      <td>2.0</td>\n",
       "    </tr>\n",
       "    <tr>\n",
       "      <th>6</th>\n",
       "      <td>11673962</td>\n",
       "      <td>full_time</td>\n",
       "      <td>1</td>\n",
       "      <td>0.500000</td>\n",
       "      <td>True</td>\n",
       "      <td>Tirante T.</td>\n",
       "      <td>1.0</td>\n",
       "    </tr>\n",
       "    <tr>\n",
       "      <th>8</th>\n",
       "      <td>11673963</td>\n",
       "      <td>full_time</td>\n",
       "      <td>1</td>\n",
       "      <td>0.360000</td>\n",
       "      <td>True</td>\n",
       "      <td>Heide G.</td>\n",
       "      <td>1.0</td>\n",
       "    </tr>\n",
       "    <tr>\n",
       "      <th>...</th>\n",
       "      <td>...</td>\n",
       "      <td>...</td>\n",
       "      <td>...</td>\n",
       "      <td>...</td>\n",
       "      <td>...</td>\n",
       "      <td>...</td>\n",
       "      <td>...</td>\n",
       "    </tr>\n",
       "    <tr>\n",
       "      <th>770</th>\n",
       "      <td>11703442</td>\n",
       "      <td>full_time</td>\n",
       "      <td>1</td>\n",
       "      <td>0.083333</td>\n",
       "      <td>True</td>\n",
       "      <td>Tessa L.</td>\n",
       "      <td>1.0</td>\n",
       "    </tr>\n",
       "    <tr>\n",
       "      <th>773</th>\n",
       "      <td>11703443</td>\n",
       "      <td>full_time</td>\n",
       "      <td>2</td>\n",
       "      <td>0.727273</td>\n",
       "      <td>True</td>\n",
       "      <td>Kalina V.</td>\n",
       "      <td>2.0</td>\n",
       "    </tr>\n",
       "    <tr>\n",
       "      <th>774</th>\n",
       "      <td>11703445</td>\n",
       "      <td>full_time</td>\n",
       "      <td>1</td>\n",
       "      <td>0.833333</td>\n",
       "      <td>True</td>\n",
       "      <td>Maute J.</td>\n",
       "      <td>1.0</td>\n",
       "    </tr>\n",
       "    <tr>\n",
       "      <th>776</th>\n",
       "      <td>11703470</td>\n",
       "      <td>full_time</td>\n",
       "      <td>1</td>\n",
       "      <td>0.666667</td>\n",
       "      <td>True</td>\n",
       "      <td>Grey S.</td>\n",
       "      <td>1.0</td>\n",
       "    </tr>\n",
       "    <tr>\n",
       "      <th>778</th>\n",
       "      <td>11703524</td>\n",
       "      <td>full_time</td>\n",
       "      <td>1</td>\n",
       "      <td>0.833333</td>\n",
       "      <td>True</td>\n",
       "      <td>Panaras A.</td>\n",
       "      <td>1.0</td>\n",
       "    </tr>\n",
       "  </tbody>\n",
       "</table>\n",
       "<p>390 rows × 7 columns</p>\n",
       "</div>"
      ],
      "text/plain": [
       "     match_id       market_name choice_name  fractional_value winnig  \\\n",
       "1    11673958         full_time           2          0.830000   True   \n",
       "3    11673958  first_set_winner           2          0.833333   True   \n",
       "5    11673958   total_games_won       Under          0.909091   True   \n",
       "6    11673962         full_time           1          0.500000   True   \n",
       "8    11673963         full_time           1          0.360000   True   \n",
       "..        ...               ...         ...               ...    ...   \n",
       "770  11703442         full_time           1          0.083333   True   \n",
       "773  11703443         full_time           2          0.727273   True   \n",
       "774  11703445         full_time           1          0.833333   True   \n",
       "776  11703470         full_time           1          0.666667   True   \n",
       "778  11703524         full_time           1          0.833333   True   \n",
       "\n",
       "    winner_name  winner_code  \n",
       "1    Tirante T.          2.0  \n",
       "3    Tirante T.          2.0  \n",
       "5    Tirante T.          2.0  \n",
       "6    Tirante T.          1.0  \n",
       "8      Heide G.          1.0  \n",
       "..          ...          ...  \n",
       "770    Tessa L.          1.0  \n",
       "773   Kalina V.          2.0  \n",
       "774    Maute J.          1.0  \n",
       "776     Grey S.          1.0  \n",
       "778  Panaras A.          1.0  \n",
       "\n",
       "[390 rows x 7 columns]"
      ]
     },
     "metadata": {},
     "output_type": "display_data"
    }
   ],
   "source": [
    "wname_fraction.loc[wname_fraction['winnig'] == True]"
   ]
  },
  {
   "cell_type": "code",
   "execution_count": null,
   "metadata": {},
   "outputs": [
    {
     "data": {
      "text/html": [
       "<div>\n",
       "<style scoped>\n",
       "    .dataframe tbody tr th:only-of-type {\n",
       "        vertical-align: middle;\n",
       "    }\n",
       "\n",
       "    .dataframe tbody tr th {\n",
       "        vertical-align: top;\n",
       "    }\n",
       "\n",
       "    .dataframe thead th {\n",
       "        text-align: right;\n",
       "    }\n",
       "</style>\n",
       "<table border=\"1\" class=\"dataframe\">\n",
       "  <thead>\n",
       "    <tr style=\"text-align: right;\">\n",
       "      <th></th>\n",
       "      <th>fractional_value</th>\n",
       "    </tr>\n",
       "    <tr>\n",
       "      <th>winner_name</th>\n",
       "      <th></th>\n",
       "    </tr>\n",
       "  </thead>\n",
       "  <tbody>\n",
       "    <tr>\n",
       "      <th>Agamenone F.</th>\n",
       "      <td>0.882626</td>\n",
       "    </tr>\n",
       "    <tr>\n",
       "      <th>Alcaraz C.</th>\n",
       "      <td>1.918089</td>\n",
       "    </tr>\n",
       "    <tr>\n",
       "      <th>Alves M.</th>\n",
       "      <td>8.002500</td>\n",
       "    </tr>\n",
       "    <tr>\n",
       "      <th>Amariei I.</th>\n",
       "      <td>4.252500</td>\n",
       "    </tr>\n",
       "    <tr>\n",
       "      <th>Ambrogi L.</th>\n",
       "      <td>0.907692</td>\n",
       "    </tr>\n",
       "    <tr>\n",
       "      <th>...</th>\n",
       "      <td>...</td>\n",
       "    </tr>\n",
       "    <tr>\n",
       "      <th>Zormann M.</th>\n",
       "      <td>3.775000</td>\n",
       "    </tr>\n",
       "    <tr>\n",
       "      <th>Zverev A.</th>\n",
       "      <td>0.987549</td>\n",
       "    </tr>\n",
       "    <tr>\n",
       "      <th>de Bakker T.</th>\n",
       "      <td>1.500000</td>\n",
       "    </tr>\n",
       "    <tr>\n",
       "      <th>de Schepper K.</th>\n",
       "      <td>4.020000</td>\n",
       "    </tr>\n",
       "    <tr>\n",
       "      <th>Świątek I.</th>\n",
       "      <td>2.649015</td>\n",
       "    </tr>\n",
       "  </tbody>\n",
       "</table>\n",
       "<p>228 rows × 1 columns</p>\n",
       "</div>"
      ],
      "text/plain": [
       "                fractional_value\n",
       "winner_name                     \n",
       "Agamenone F.            0.882626\n",
       "Alcaraz C.              1.918089\n",
       "Alves M.                8.002500\n",
       "Amariei I.              4.252500\n",
       "Ambrogi L.              0.907692\n",
       "...                          ...\n",
       "Zormann M.              3.775000\n",
       "Zverev A.               0.987549\n",
       "de Bakker T.            1.500000\n",
       "de Schepper K.          4.020000\n",
       "Świątek I.              2.649015\n",
       "\n",
       "[228 rows x 1 columns]"
      ]
     },
     "metadata": {},
     "output_type": "display_data"
    }
   ],
   "source": [
    "wname_fraction.groupby('winner_name').agg({'fractional_value' : 'mean'})"
   ]
  },
  {
   "cell_type": "markdown",
   "metadata": {},
   "source": [
    "<hr style=\"border:8px solid gray\">"
   ]
  },
  {
   "cell_type": "markdown",
   "metadata": {},
   "source": [
    "## 3. Calculate the win-loss ratio for each player"
   ]
  },
  {
   "cell_type": "code",
   "execution_count": null,
   "metadata": {},
   "outputs": [],
   "source": [
    "loser_h_player = pd.merge(match_win_month.loc[match_win_month['winner_code'] == 2], match_h_player, on='match_id')\n",
    "loser_h_player.drop_duplicates(subset = ['match_id'], keep = 'first', inplace = True)\n",
    "loser_h_player.dropna(inplace = True)\n",
    "loser_a_player = pd.merge(match_win_month.loc[match_win_month['winner_code'] == 1], match_a_player, on='match_id')\n",
    "loser_a_player.drop_duplicates(subset = ['match_id'], keep = 'first', inplace = True)\n",
    "loser_a_player.dropna(inplace = True)\n",
    "loesers_nam = pd.concat([loser_h_player, loser_a_player], axis = 0, ignore_index = True)"
   ]
  },
  {
   "cell_type": "code",
   "execution_count": null,
   "metadata": {},
   "outputs": [
    {
     "data": {
      "text/html": [
       "<div>\n",
       "<style scoped>\n",
       "    .dataframe tbody tr th:only-of-type {\n",
       "        vertical-align: middle;\n",
       "    }\n",
       "\n",
       "    .dataframe tbody tr th {\n",
       "        vertical-align: top;\n",
       "    }\n",
       "\n",
       "    .dataframe thead th {\n",
       "        text-align: right;\n",
       "    }\n",
       "</style>\n",
       "<table border=\"1\" class=\"dataframe\">\n",
       "  <thead>\n",
       "    <tr style=\"text-align: right;\">\n",
       "      <th></th>\n",
       "      <th>match_id</th>\n",
       "      <th>winner_code</th>\n",
       "      <th>month</th>\n",
       "      <th>name</th>\n",
       "    </tr>\n",
       "  </thead>\n",
       "  <tbody>\n",
       "    <tr>\n",
       "      <th>0</th>\n",
       "      <td>11673962</td>\n",
       "      <td>1.0</td>\n",
       "      <td>10</td>\n",
       "      <td>Tirante T.</td>\n",
       "    </tr>\n",
       "    <tr>\n",
       "      <th>1</th>\n",
       "      <td>11673963</td>\n",
       "      <td>1.0</td>\n",
       "      <td>9</td>\n",
       "      <td>Heide G.</td>\n",
       "    </tr>\n",
       "    <tr>\n",
       "      <th>2</th>\n",
       "      <td>11674008</td>\n",
       "      <td>1.0</td>\n",
       "      <td>9</td>\n",
       "      <td>Shelbayh A.</td>\n",
       "    </tr>\n",
       "    <tr>\n",
       "      <th>3</th>\n",
       "      <td>11674032</td>\n",
       "      <td>1.0</td>\n",
       "      <td>10</td>\n",
       "      <td>Machač T.</td>\n",
       "    </tr>\n",
       "    <tr>\n",
       "      <th>4</th>\n",
       "      <td>11674034</td>\n",
       "      <td>1.0</td>\n",
       "      <td>9</td>\n",
       "      <td>Draper J.</td>\n",
       "    </tr>\n",
       "    <tr>\n",
       "      <th>...</th>\n",
       "      <td>...</td>\n",
       "      <td>...</td>\n",
       "      <td>...</td>\n",
       "      <td>...</td>\n",
       "    </tr>\n",
       "    <tr>\n",
       "      <th>497</th>\n",
       "      <td>11702232</td>\n",
       "      <td>2.0</td>\n",
       "      <td>10</td>\n",
       "      <td>Aguilar Cardozo J.</td>\n",
       "    </tr>\n",
       "    <tr>\n",
       "      <th>498</th>\n",
       "      <td>11702238</td>\n",
       "      <td>2.0</td>\n",
       "      <td>10</td>\n",
       "      <td>Derdoy F.</td>\n",
       "    </tr>\n",
       "    <tr>\n",
       "      <th>499</th>\n",
       "      <td>11702243</td>\n",
       "      <td>2.0</td>\n",
       "      <td>10</td>\n",
       "      <td>Mouilleron Salvo M.</td>\n",
       "    </tr>\n",
       "    <tr>\n",
       "      <th>500</th>\n",
       "      <td>11702248</td>\n",
       "      <td>2.0</td>\n",
       "      <td>10</td>\n",
       "      <td>Noel M.</td>\n",
       "    </tr>\n",
       "    <tr>\n",
       "      <th>501</th>\n",
       "      <td>11703443</td>\n",
       "      <td>2.0</td>\n",
       "      <td>10</td>\n",
       "      <td>Kalina V.</td>\n",
       "    </tr>\n",
       "  </tbody>\n",
       "</table>\n",
       "<p>502 rows × 4 columns</p>\n",
       "</div>"
      ],
      "text/plain": [
       "     match_id  winner_code  month                 name\n",
       "0    11673962          1.0     10           Tirante T.\n",
       "1    11673963          1.0      9             Heide G.\n",
       "2    11674008          1.0      9          Shelbayh A.\n",
       "3    11674032          1.0     10            Machač T.\n",
       "4    11674034          1.0      9            Draper J.\n",
       "..        ...          ...    ...                  ...\n",
       "497  11702232          2.0     10   Aguilar Cardozo J.\n",
       "498  11702238          2.0     10            Derdoy F.\n",
       "499  11702243          2.0     10  Mouilleron Salvo M.\n",
       "500  11702248          2.0     10              Noel M.\n",
       "501  11703443          2.0     10            Kalina V.\n",
       "\n",
       "[502 rows x 4 columns]"
      ]
     },
     "metadata": {},
     "output_type": "display_data"
    }
   ],
   "source": [
    "winners_name"
   ]
  },
  {
   "cell_type": "code",
   "execution_count": null,
   "metadata": {},
   "outputs": [
    {
     "data": {
      "text/html": [
       "<div>\n",
       "<style scoped>\n",
       "    .dataframe tbody tr th:only-of-type {\n",
       "        vertical-align: middle;\n",
       "    }\n",
       "\n",
       "    .dataframe tbody tr th {\n",
       "        vertical-align: top;\n",
       "    }\n",
       "\n",
       "    .dataframe thead th {\n",
       "        text-align: right;\n",
       "    }\n",
       "</style>\n",
       "<table border=\"1\" class=\"dataframe\">\n",
       "  <thead>\n",
       "    <tr style=\"text-align: right;\">\n",
       "      <th></th>\n",
       "      <th>match_id</th>\n",
       "      <th>winner_code</th>\n",
       "      <th>month</th>\n",
       "      <th>name</th>\n",
       "    </tr>\n",
       "  </thead>\n",
       "  <tbody>\n",
       "    <tr>\n",
       "      <th>0</th>\n",
       "      <td>11673958</td>\n",
       "      <td>2.0</td>\n",
       "      <td>9</td>\n",
       "      <td>Barrios Vera T.</td>\n",
       "    </tr>\n",
       "    <tr>\n",
       "      <th>1</th>\n",
       "      <td>11673993</td>\n",
       "      <td>2.0</td>\n",
       "      <td>10</td>\n",
       "      <td>Ajduković D.</td>\n",
       "    </tr>\n",
       "    <tr>\n",
       "      <th>2</th>\n",
       "      <td>11674000</td>\n",
       "      <td>2.0</td>\n",
       "      <td>9</td>\n",
       "      <td>Escobedo E.</td>\n",
       "    </tr>\n",
       "    <tr>\n",
       "      <th>3</th>\n",
       "      <td>11674011</td>\n",
       "      <td>2.0</td>\n",
       "      <td>10</td>\n",
       "      <td>Crawford O.</td>\n",
       "    </tr>\n",
       "    <tr>\n",
       "      <th>4</th>\n",
       "      <td>11674026</td>\n",
       "      <td>2.0</td>\n",
       "      <td>9</td>\n",
       "      <td>Gasquet R.</td>\n",
       "    </tr>\n",
       "    <tr>\n",
       "      <th>...</th>\n",
       "      <td>...</td>\n",
       "      <td>...</td>\n",
       "      <td>...</td>\n",
       "      <td>...</td>\n",
       "    </tr>\n",
       "    <tr>\n",
       "      <th>306</th>\n",
       "      <td>11702218</td>\n",
       "      <td>1.0</td>\n",
       "      <td>10</td>\n",
       "      <td>Oliveira C.</td>\n",
       "    </tr>\n",
       "    <tr>\n",
       "      <th>307</th>\n",
       "      <td>11702221</td>\n",
       "      <td>1.0</td>\n",
       "      <td>10</td>\n",
       "      <td>Dedura-Palomero M.</td>\n",
       "    </tr>\n",
       "    <tr>\n",
       "      <th>308</th>\n",
       "      <td>11702244</td>\n",
       "      <td>1.0</td>\n",
       "      <td>10</td>\n",
       "      <td>Simonit E.</td>\n",
       "    </tr>\n",
       "    <tr>\n",
       "      <th>309</th>\n",
       "      <td>11703445</td>\n",
       "      <td>1.0</td>\n",
       "      <td>10</td>\n",
       "      <td>Nad P.</td>\n",
       "    </tr>\n",
       "    <tr>\n",
       "      <th>310</th>\n",
       "      <td>11703470</td>\n",
       "      <td>1.0</td>\n",
       "      <td>10</td>\n",
       "      <td>Lizarazo Y.</td>\n",
       "    </tr>\n",
       "  </tbody>\n",
       "</table>\n",
       "<p>311 rows × 4 columns</p>\n",
       "</div>"
      ],
      "text/plain": [
       "     match_id  winner_code  month                name\n",
       "0    11673958          2.0      9     Barrios Vera T.\n",
       "1    11673993          2.0     10        Ajduković D.\n",
       "2    11674000          2.0      9         Escobedo E.\n",
       "3    11674011          2.0     10         Crawford O.\n",
       "4    11674026          2.0      9          Gasquet R.\n",
       "..        ...          ...    ...                 ...\n",
       "306  11702218          1.0     10         Oliveira C.\n",
       "307  11702221          1.0     10  Dedura-Palomero M.\n",
       "308  11702244          1.0     10          Simonit E.\n",
       "309  11703445          1.0     10              Nad P.\n",
       "310  11703470          1.0     10         Lizarazo Y.\n",
       "\n",
       "[311 rows x 4 columns]"
      ]
     },
     "metadata": {},
     "output_type": "display_data"
    }
   ],
   "source": [
    "losers_name"
   ]
  },
  {
   "cell_type": "code",
   "execution_count": null,
   "metadata": {},
   "outputs": [],
   "source": [
    "win_count = winners_name.groupby('name', as_index=False).agg({'match_id' : 'count'}).sort_values(by=['match_id'], ascending=False).rename(columns={'match_id' : 'win_count'})"
   ]
  },
  {
   "cell_type": "code",
   "execution_count": null,
   "metadata": {},
   "outputs": [
    {
     "data": {
      "text/plain": [
       "(130, 0)"
      ]
     },
     "metadata": {},
     "output_type": "display_data"
    }
   ],
   "source": [
    "\n",
    "winners_name['name'].duplicated().sum(), losers_name['name'].duplicated().sum()"
   ]
  },
  {
   "cell_type": "markdown",
   "metadata": {},
   "source": [
    "<hr style=\"border:8px solid gray\">"
   ]
  },
  {
   "cell_type": "markdown",
   "metadata": {},
   "source": [
    "## 5. Does being from the same country as the player and the tournament affect the player's win?"
   ]
  },
  {
   "cell_type": "markdown",
   "metadata": {},
   "source": [
    " <span style=\"color:#728C69 ; font-family:Times new roman ; font-size: 2em ;\">extract country of players</span>"
   ]
  },
  {
   "cell_type": "code",
   "execution_count": null,
   "metadata": {},
   "outputs": [],
   "source": [
    "home_player_contry = df_home_team[['match_id', 'name', 'birthplace']]\n",
    "country = home_player_contry['birthplace'].str.split(',').str[-1]\n",
    "home_player_contry = pd.concat([home_player_contry, country], axis=1)\n",
    "home_player_contry.columns = ['match_id', 'name', 'birthplace', 'country']\n",
    "home_player_contry.drop(columns='birthplace', inplace=True)\n",
    "home_player_contry.dropna(inplace=True)"
   ]
  },
  {
   "cell_type": "code",
   "execution_count": null,
   "metadata": {},
   "outputs": [],
   "source": [
    "away_player_contry = df_away_team[['match_id', 'name', 'birthplace']]\n",
    "country = away_player_contry['birthplace'].str.split(',').str[-1]\n",
    "away_player_contry = pd.concat([away_player_contry, country], axis=1)\n",
    "away_player_contry.columns = ['match_id', 'name', 'birthplace', 'country']\n",
    "away_player_contry.drop(columns='birthplace', inplace=True)\n",
    "away_player_contry.dropna(inplace=True)"
   ]
  },
  {
   "cell_type": "code",
   "execution_count": null,
   "metadata": {},
   "outputs": [],
   "source": [
    "players_country = pd.concat([away_player_contry, home_player_contry])"
   ]
  },
  {
   "cell_type": "markdown",
   "metadata": {},
   "source": [
    "<span style=\"color:#728C69 ; font-family:Times new roman ; font-size: 2em ;\">extraxt The country of the match</span>"
   ]
  },
  {
   "cell_type": "code",
   "execution_count": null,
   "metadata": {},
   "outputs": [],
   "source": [
    "match_country = df_venue[['match_id', 'country']].dropna().rename(columns={'country' : 'match_country'})"
   ]
  },
  {
   "cell_type": "markdown",
   "metadata": {},
   "source": [
    "<span style=\"color:#728C69 ; font-family:Times new roman ; font-size: 2em ;\">compare birth country and match's country</span>"
   ]
  },
  {
   "cell_type": "code",
   "execution_count": null,
   "metadata": {},
   "outputs": [],
   "source": [
    "countries = match_country.merge(players_country, on='match_id', how='left')"
   ]
  },
  {
   "cell_type": "code",
   "execution_count": null,
   "metadata": {},
   "outputs": [
    {
     "data": {
      "text/plain": [
       "False"
      ]
     },
     "metadata": {},
     "output_type": "display_data"
    }
   ],
   "source": [
    "winners_countries = countries.merge(winners_name[['match_id', 'name']], on='match_id')\n",
    "winners_countries['match_country'].astype('str').iloc[15] == winners_countries['country'].astype('str').iloc[15]"
   ]
  },
  {
   "cell_type": "code",
   "execution_count": null,
   "metadata": {},
   "outputs": [],
   "source": [
    "winners_countries['match_country'] = winners_countries['match_country'].str.strip()\n",
    "winners_countries['country'] = winners_countries['country'].str.strip()"
   ]
  },
  {
   "cell_type": "code",
   "execution_count": null,
   "metadata": {},
   "outputs": [],
   "source": [
    "same_countries = (winners_countries[(winners_countries['match_country'] == winners_countries['country'])\n",
    "                                    & (winners_countries['name_x'] == winners_countries['name_y']) ].reset_index().drop(columns='index'))\n",
    "home_country_winners = (same_countries.groupby('name_x').agg({'country' : 'count'})\n",
    "                        .sort_values(by=['country'], ascending=False).reset_index().rename(columns={'name_x' : 'name'}))"
   ]
  },
  {
   "cell_type": "code",
   "execution_count": null,
   "metadata": {},
   "outputs": [],
   "source": [
    "home_status = home_country_winners.merge(win_count[['name', 'win_count']], on='name')"
   ]
  },
  {
   "cell_type": "code",
   "execution_count": null,
   "metadata": {},
   "outputs": [],
   "source": [
    "lose_count = losers_name.groupby('name').agg({'match_id' : 'count'}).rename(columns= {'match_id' : 'lose_count'})"
   ]
  },
  {
   "cell_type": "code",
   "execution_count": null,
   "metadata": {},
   "outputs": [],
   "source": [
    "games = home_status.merge(lose_count, on='name', how='left')\n",
    "games.fillna(0, inplace=True)\n",
    "games['game_count'] = games['win_count'] + games['lose_count']"
   ]
  }
 ],
 "metadata": {
  "kernelspec": {
   "display_name": "Python 3",
   "language": "python",
   "name": "python3"
  },
  "language_info": {
   "codemirror_mode": {
    "name": "ipython",
    "version": 3
   },
   "file_extension": ".py",
   "mimetype": "text/x-python",
   "name": "python",
   "nbconvert_exporter": "python",
   "pygments_lexer": "ipython3",
   "version": "3.10.4"
  }
 },
 "nbformat": 4,
 "nbformat_minor": 2
}
