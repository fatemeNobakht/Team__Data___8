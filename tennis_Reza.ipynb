{
 "cells": [
  {
   "cell_type": "markdown",
   "metadata": {},
   "source": [
    "# Requirements"
   ]
  },
  {
   "cell_type": "code",
   "execution_count": 1,
   "metadata": {},
   "outputs": [],
   "source": [
    "import pandas as pd\n",
    "import os\n",
    "import matplotlib.pyplot as plt"
   ]
  },
  {
   "cell_type": "markdown",
   "metadata": {},
   "source": [
    "# Loading Data"
   ]
  },
  {
   "cell_type": "code",
   "execution_count": 2,
   "metadata": {},
   "outputs": [],
   "source": [
    "for file in os.listdir(r'tennis_data/tennis_csv'):\n",
    "    df_name = file.split('.')[0]\n",
    "    globals()[df_name] = pd.read_csv(r'tennis_data/tennis_csv/' + file)"
   ]
  },
  {
   "cell_type": "markdown",
   "metadata": {},
   "source": [
    "# Season"
   ]
  },
  {
   "cell_type": "code",
   "execution_count": null,
   "metadata": {},
   "outputs": [],
   "source": [
    "df_season.head(5)"
   ]
  },
  {
   "cell_type": "code",
   "execution_count": null,
   "metadata": {},
   "outputs": [],
   "source": [
    "df_season[['season_id', 'name']].drop_duplicates(keep='first')['name'].duplicated().sum()\n",
    "df_season[df_season['name'] == 'ITF Japan 21A, Women Singles 2023']"
   ]
  },
  {
   "cell_type": "code",
   "execution_count": null,
   "metadata": {},
   "outputs": [],
   "source": [
    "df_season[df_season['season_id'] == 55244]\n",
    "df_season[~df_season.duplicated(subset=['name', 'season_id'], keep=False)]"
   ]
  },
  {
   "cell_type": "code",
   "execution_count": null,
   "metadata": {},
   "outputs": [],
   "source": [
    "df_season[df_season.duplicated(subset=['name'], keep=False)]"
   ]
  },
  {
   "cell_type": "markdown",
   "metadata": {},
   "source": [
    "### Season DataFrame\n",
    "this DataFrame contains name and year of season for each match_id\n",
    "1. `match_id`\n",
    "    * numbers for uniquely identifying each match\n",
    "    * not any duplicate\n",
    "    * not any Null\n",
    "\n",
    "2. `season_id`\n",
    "    * numbers for uniquely identifying each season\n",
    "    * we have totally **53 unique season_id**\n",
    "    * not any Null\n",
    "3. `name`\n",
    "    * uniquely identifying each season names\n",
    "    * we have a <span style=\"color:red\">bug</span> : \"55244\" and \"55428\" used for same season name\n",
    "    * we have totally **52 unique season_id**\n",
    "    * not any Null\n",
    "4. `year`\n",
    "    * this column includes year of the seasons that all of them is **2023**\n"
   ]
  },
  {
   "cell_type": "markdown",
   "metadata": {},
   "source": [
    "# Statistics"
   ]
  },
  {
   "cell_type": "code",
   "execution_count": 5,
   "metadata": {},
   "outputs": [
    {
     "data": {
      "text/plain": [
       "array(['aces', 'double_faults', 'first_serve', 'second_serve',\n",
       "       'first_serve_points', 'second_serve_points',\n",
       "       'service_games_played', 'break_points_saved', 'total',\n",
       "       'service_points_won', 'receiver_points_won', 'max_points_in_a_row',\n",
       "       'total_won', 'service_games_won', 'max_games_in_a_row',\n",
       "       'first_serve_return_points', 'second_serve_return_points',\n",
       "       'return_games_played', 'break_points_converted', 'tiebreaks'],\n",
       "      dtype=object)"
      ]
     },
     "execution_count": 5,
     "metadata": {},
     "output_type": "execute_result"
    }
   ],
   "source": [
    "df_statistics['statistic_name'].unique()"
   ]
  },
  {
   "cell_type": "code",
   "execution_count": null,
   "metadata": {},
   "outputs": [],
   "source": [
    "df_statistics[(df_statistics['statistic_category_name'] == 'service') & (df_statistics['match_id'] == 11703525)]\n",
    "df_statistics['period'].unique()\n",
    "df_statistics['statistic_name']\n",
    "df_statistics[(df_statistics['match_id'] == 11674105)]\n",
    "df_statistics[(df_statistics['match_id'] == 11674105)]\n",
    "df_statistics"
   ]
  },
  {
   "cell_type": "markdown",
   "metadata": {},
   "source": [
    "### Statistics\n",
    "statistics data frame appears to be a structured representation of tennis match statistics, organized into columns with specific information\n",
    "1. `match_id`\n",
    "    * numbers for uniquely identifying each match\n",
    "    * there is **209 uniqe id**\n",
    "2. `period`\n",
    "    * there are **4** values here that refer to number of sets :\n",
    "        * 1ST is first set\n",
    "        * 2ND is secend set \n",
    "        * 3RD is thired set \n",
    "        * ALL is sum of all sets\n",
    "    * not any Null value\n",
    "3. `statistic_category_name`\n",
    "    * this column contain category of events that we show statistical reports in next columns\n",
    "    * this catagory include: service, points, games, return, miscellaneous\n",
    "    * not any Null value\n",
    "4. `statistic_name`\n",
    "    * there is name of event that we show statistical reports in next columns\n",
    "    * there is **20 uniqe id**\n",
    "    * not any Null value\n",
    "5.  `home_stat`\n",
    "    * there is status of home player on Respective event include numbers and percents\n",
    "    * not any Null value\n",
    "6. `away_stat`\n",
    "    * there is status of home player on Respective event include numbers and percents\n",
    "    * not any Null value\n",
    "7. `compare_code`\n",
    "    * Here are three situations to show the comparison result\n",
    "        * 3 : equal situation\n",
    "        * 2 : away player has greater value\n",
    "        * 1 : home player has greater value\n",
    "    * not any Null value\n",
    "8. `statistic_type`\n",
    "    * this column show that the event has positive point or negative\n",
    "    * not any Null value\n",
    "9. `value_type`\n",
    "    * this column Determines event or team statistics\n",
    "    * not any Null value\n",
    "10. `home_value`\n",
    "    * "
   ]
  },
  {
   "cell_type": "markdown",
   "metadata": {},
   "source": [
    "# Time"
   ]
  },
  {
   "cell_type": "code",
   "execution_count": null,
   "metadata": {},
   "outputs": [],
   "source": [
    "df_time.head()"
   ]
  },
  {
   "cell_type": "code",
   "execution_count": null,
   "metadata": {},
   "outputs": [],
   "source": [
    "df_time['current_period_start_timestamp'].isna().sum()"
   ]
  },
  {
   "cell_type": "markdown",
   "metadata": {},
   "source": [
    "### Time\n",
    "Time data frame apears time spend in each game and it's starting time.\n",
    "all of columns are in secend\n",
    "\n",
    "1. `match_id`\n",
    "    * numbers for uniquely identifying each match\n",
    "    * there is **764 uniqe id**\n",
    "2. `period_1` \n",
    "    * shows time spend in first game\n",
    "    * it has **444 NaN values**\n",
    "    * min of this column is 1039 secends\n",
    "    * max of this column is 5180 secends\n",
    "    * mean of this column is 2547.937500 secends\n",
    "3. `period_2`\n",
    "    * shows time spend in secend game\n",
    "    * it has **445 NaN values**\n",
    "    * min of this column is 455 secends\n",
    "    * max of this column is 5423 secends\n",
    "    * mean of this column is 2706.194357 secends\n",
    "4. `period_3`\n",
    "    * shows time spend in third game\n",
    "    * it has **657 NaN values**\n",
    "    * min of this column is 671 secends\n",
    "    * max of this column is 5180 secends\n",
    "    * mean of this column is 2327.364486 secends\n",
    "5. `period_4`\n",
    "    * shows time spend in 4th game\n",
    "    * all of this column is NaN\n",
    "6. `period_5`\n",
    "    * shows time spend in 5th game\n",
    "    * all of this column is NaN\n",
    "7. `current_period_start_timestamp`\n",
    "    * shows starting time\n",
    "    * it has **435 NaN values**\n"
   ]
  },
  {
   "cell_type": "code",
   "execution_count": 5,
   "metadata": {},
   "outputs": [],
   "source": [
    "def statistics_cleaner(df):\n",
    "    df['home_total'].fillna(0, inplace=True)\n",
    "    df['away_total'].fillna(0, inplace=True)    \n",
    "    df['home_total'] = df['home_total'].astype('int64')\n",
    "    df['away_total'] = df['away_total'].astype('int64')\n",
    "    df['period'] = df['period'].astype('category')\n",
    "    df['statistic_category_name'] = df['statistic_category_name'].astype('category')\n",
    "    df['statistic_type'] = df['statistic_type'].astype('category')\n",
    "    df['value_type'] = df['value_type'].astype('category')"
   ]
  },
  {
   "cell_type": "code",
   "execution_count": 7,
   "metadata": {},
   "outputs": [
    {
     "data": {
      "text/plain": [
       "(12263, 13)"
      ]
     },
     "execution_count": 7,
     "metadata": {},
     "output_type": "execute_result"
    }
   ],
   "source": [
    "statistics_cleaner(df_statistics)"
   ]
  },
  {
   "cell_type": "markdown",
   "metadata": {},
   "source": [
    "----"
   ]
  },
  {
   "cell_type": "markdown",
   "metadata": {},
   "source": [
    "----"
   ]
  },
  {
   "cell_type": "markdown",
   "metadata": {},
   "source": [
    "## 7. What is the average number of aces per match?"
   ]
  },
  {
   "cell_type": "code",
   "execution_count": 4,
   "metadata": {},
   "outputs": [
    {
     "data": {
      "text/html": [
       "<div>\n",
       "<style scoped>\n",
       "    .dataframe tbody tr th:only-of-type {\n",
       "        vertical-align: middle;\n",
       "    }\n",
       "\n",
       "    .dataframe tbody tr th {\n",
       "        vertical-align: top;\n",
       "    }\n",
       "\n",
       "    .dataframe thead th {\n",
       "        text-align: right;\n",
       "    }\n",
       "</style>\n",
       "<table border=\"1\" class=\"dataframe\">\n",
       "  <thead>\n",
       "    <tr style=\"text-align: right;\">\n",
       "      <th></th>\n",
       "      <th>home_stat</th>\n",
       "      <th>away_stat</th>\n",
       "      <th>home_value</th>\n",
       "      <th>away_value</th>\n",
       "    </tr>\n",
       "    <tr>\n",
       "      <th>match_id</th>\n",
       "      <th></th>\n",
       "      <th></th>\n",
       "      <th></th>\n",
       "      <th></th>\n",
       "    </tr>\n",
       "  </thead>\n",
       "  <tbody>\n",
       "    <tr>\n",
       "      <th>11674074</th>\n",
       "      <td>33.666667</td>\n",
       "      <td>73.333333</td>\n",
       "      <td>0.666667</td>\n",
       "      <td>1.333333</td>\n",
       "    </tr>\n",
       "    <tr>\n",
       "      <th>11674103</th>\n",
       "      <td>174.333333</td>\n",
       "      <td>73.333333</td>\n",
       "      <td>3.333333</td>\n",
       "      <td>1.333333</td>\n",
       "    </tr>\n",
       "    <tr>\n",
       "      <th>11674105</th>\n",
       "      <td>4666.500000</td>\n",
       "      <td>4163.750000</td>\n",
       "      <td>9.000000</td>\n",
       "      <td>8.000000</td>\n",
       "    </tr>\n",
       "    <tr>\n",
       "      <th>11674110</th>\n",
       "      <td>140.666667</td>\n",
       "      <td>250.666667</td>\n",
       "      <td>2.666667</td>\n",
       "      <td>4.666667</td>\n",
       "    </tr>\n",
       "    <tr>\n",
       "      <th>11674111</th>\n",
       "      <td>146.666667</td>\n",
       "      <td>211.000000</td>\n",
       "      <td>2.666667</td>\n",
       "      <td>4.000000</td>\n",
       "    </tr>\n",
       "    <tr>\n",
       "      <th>...</th>\n",
       "      <td>...</td>\n",
       "      <td>...</td>\n",
       "      <td>...</td>\n",
       "      <td>...</td>\n",
       "    </tr>\n",
       "    <tr>\n",
       "      <th>11703444</th>\n",
       "      <td>104.000000</td>\n",
       "      <td>36.666667</td>\n",
       "      <td>2.000000</td>\n",
       "      <td>0.666667</td>\n",
       "    </tr>\n",
       "    <tr>\n",
       "      <th>11703445</th>\n",
       "      <td>33.666667</td>\n",
       "      <td>70.333333</td>\n",
       "      <td>0.666667</td>\n",
       "      <td>1.333333</td>\n",
       "    </tr>\n",
       "    <tr>\n",
       "      <th>11703470</th>\n",
       "      <td>107.000000</td>\n",
       "      <td>73.333333</td>\n",
       "      <td>2.000000</td>\n",
       "      <td>1.333333</td>\n",
       "    </tr>\n",
       "    <tr>\n",
       "      <th>11703524</th>\n",
       "      <td>143.666667</td>\n",
       "      <td>0.000000</td>\n",
       "      <td>2.666667</td>\n",
       "      <td>0.000000</td>\n",
       "    </tr>\n",
       "    <tr>\n",
       "      <th>11703525</th>\n",
       "      <td>36.666667</td>\n",
       "      <td>33.666667</td>\n",
       "      <td>0.666667</td>\n",
       "      <td>0.666667</td>\n",
       "    </tr>\n",
       "  </tbody>\n",
       "</table>\n",
       "<p>209 rows × 4 columns</p>\n",
       "</div>"
      ],
      "text/plain": [
       "            home_stat    away_stat  home_value  away_value\n",
       "match_id                                                  \n",
       "11674074    33.666667    73.333333    0.666667    1.333333\n",
       "11674103   174.333333    73.333333    3.333333    1.333333\n",
       "11674105  4666.500000  4163.750000    9.000000    8.000000\n",
       "11674110   140.666667   250.666667    2.666667    4.666667\n",
       "11674111   146.666667   211.000000    2.666667    4.000000\n",
       "...               ...          ...         ...         ...\n",
       "11703444   104.000000    36.666667    2.000000    0.666667\n",
       "11703445    33.666667    70.333333    0.666667    1.333333\n",
       "11703470   107.000000    73.333333    2.000000    1.333333\n",
       "11703524   143.666667     0.000000    2.666667    0.000000\n",
       "11703525    36.666667    33.666667    0.666667    0.666667\n",
       "\n",
       "[209 rows x 4 columns]"
      ]
     },
     "execution_count": 4,
     "metadata": {},
     "output_type": "execute_result"
    }
   ],
   "source": [
    "(df_statistics[df_statistics['statistic_name'] == 'aces']\n",
    "    .groupby('match_id').agg({'home_stat':'mean',\n",
    "                                'away_stat':'mean',\n",
    "                                'home_value':'mean',\n",
    "                                'away_value':'mean' }))"
   ]
  },
  {
   "cell_type": "code",
   "execution_count": 5,
   "metadata": {},
   "outputs": [
    {
     "data": {
      "text/html": [
       "<div>\n",
       "<style scoped>\n",
       "    .dataframe tbody tr th:only-of-type {\n",
       "        vertical-align: middle;\n",
       "    }\n",
       "\n",
       "    .dataframe tbody tr th {\n",
       "        vertical-align: top;\n",
       "    }\n",
       "\n",
       "    .dataframe thead th {\n",
       "        text-align: right;\n",
       "    }\n",
       "</style>\n",
       "<table border=\"1\" class=\"dataframe\">\n",
       "  <thead>\n",
       "    <tr style=\"text-align: right;\">\n",
       "      <th></th>\n",
       "      <th>match_id</th>\n",
       "      <th>home_stat</th>\n",
       "      <th>away_stat</th>\n",
       "      <th>home_value</th>\n",
       "      <th>away_value</th>\n",
       "    </tr>\n",
       "  </thead>\n",
       "  <tbody>\n",
       "    <tr>\n",
       "      <th>0</th>\n",
       "      <td>11674074</td>\n",
       "      <td>1</td>\n",
       "      <td>2</td>\n",
       "      <td>1</td>\n",
       "      <td>2</td>\n",
       "    </tr>\n",
       "    <tr>\n",
       "      <th>20</th>\n",
       "      <td>11674074</td>\n",
       "      <td>0</td>\n",
       "      <td>2</td>\n",
       "      <td>0</td>\n",
       "      <td>2</td>\n",
       "    </tr>\n",
       "    <tr>\n",
       "      <th>37</th>\n",
       "      <td>11674074</td>\n",
       "      <td>1</td>\n",
       "      <td>0</td>\n",
       "      <td>1</td>\n",
       "      <td>0</td>\n",
       "    </tr>\n",
       "    <tr>\n",
       "      <th>53</th>\n",
       "      <td>11674103</td>\n",
       "      <td>5</td>\n",
       "      <td>2</td>\n",
       "      <td>5</td>\n",
       "      <td>2</td>\n",
       "    </tr>\n",
       "    <tr>\n",
       "      <th>73</th>\n",
       "      <td>11674103</td>\n",
       "      <td>2</td>\n",
       "      <td>2</td>\n",
       "      <td>2</td>\n",
       "      <td>2</td>\n",
       "    </tr>\n",
       "    <tr>\n",
       "      <th>...</th>\n",
       "      <td>...</td>\n",
       "      <td>...</td>\n",
       "      <td>...</td>\n",
       "      <td>...</td>\n",
       "      <td>...</td>\n",
       "    </tr>\n",
       "    <tr>\n",
       "      <th>12175</th>\n",
       "      <td>11703524</td>\n",
       "      <td>3</td>\n",
       "      <td>0</td>\n",
       "      <td>3</td>\n",
       "      <td>0</td>\n",
       "    </tr>\n",
       "    <tr>\n",
       "      <th>12192</th>\n",
       "      <td>11703524</td>\n",
       "      <td>1</td>\n",
       "      <td>0</td>\n",
       "      <td>1</td>\n",
       "      <td>0</td>\n",
       "    </tr>\n",
       "    <tr>\n",
       "      <th>12209</th>\n",
       "      <td>11703525</td>\n",
       "      <td>1</td>\n",
       "      <td>1</td>\n",
       "      <td>1</td>\n",
       "      <td>1</td>\n",
       "    </tr>\n",
       "    <tr>\n",
       "      <th>12229</th>\n",
       "      <td>11703525</td>\n",
       "      <td>1</td>\n",
       "      <td>0</td>\n",
       "      <td>1</td>\n",
       "      <td>0</td>\n",
       "    </tr>\n",
       "    <tr>\n",
       "      <th>12246</th>\n",
       "      <td>11703525</td>\n",
       "      <td>0</td>\n",
       "      <td>1</td>\n",
       "      <td>0</td>\n",
       "      <td>1</td>\n",
       "    </tr>\n",
       "  </tbody>\n",
       "</table>\n",
       "<p>691 rows × 5 columns</p>\n",
       "</div>"
      ],
      "text/plain": [
       "       match_id home_stat away_stat  home_value  away_value\n",
       "0      11674074         1         2           1           2\n",
       "20     11674074         0         2           0           2\n",
       "37     11674074         1         0           1           0\n",
       "53     11674103         5         2           5           2\n",
       "73     11674103         2         2           2           2\n",
       "...         ...       ...       ...         ...         ...\n",
       "12175  11703524         3         0           3           0\n",
       "12192  11703524         1         0           1           0\n",
       "12209  11703525         1         1           1           1\n",
       "12229  11703525         1         0           1           0\n",
       "12246  11703525         0         1           0           1\n",
       "\n",
       "[691 rows x 5 columns]"
      ]
     },
     "execution_count": 5,
     "metadata": {},
     "output_type": "execute_result"
    }
   ],
   "source": [
    "aces = df_statistics[df_statistics['statistic_name'] == 'aces'][['match_id', 'home_stat', 'away_stat', 'home_value','away_value']]\n",
    "aces"
   ]
  },
  {
   "cell_type": "code",
   "execution_count": null,
   "metadata": {},
   "outputs": [],
   "source": [
    "all_aces = df_statistics[(df_statistics['statistic_name'] == 'aces') & (df_statistics['period'] == 'ALL')]\n",
    "all_aces['home_stat'], all_aces['away_stat'] = all_aces['home_stat'].astype(int), all_aces['away_stat'].astype(int)\n",
    "all_aces['aces_sum'] = all_aces[['home_stat', 'away_stat']].sum(axis=1)\n",
    "aces_df = all_aces[['match_id', 'aces_sum']]\n",
    "aces_df"
   ]
  },
  {
   "cell_type": "code",
   "execution_count": 27,
   "metadata": {},
   "outputs": [
    {
     "data": {
      "text/plain": [
       "4.009569377990431"
      ]
     },
     "execution_count": 27,
     "metadata": {},
     "output_type": "execute_result"
    }
   ],
   "source": [
    "all_aces['aces_sum'].mean()"
   ]
  },
  {
   "cell_type": "markdown",
   "metadata": {},
   "source": [
    "## 8. Is there a difference in the number of double faults based on gender?"
   ]
  },
  {
   "cell_type": "code",
   "execution_count": 81,
   "metadata": {},
   "outputs": [
    {
     "data": {
      "text/html": [
       "<div>\n",
       "<style scoped>\n",
       "    .dataframe tbody tr th:only-of-type {\n",
       "        vertical-align: middle;\n",
       "    }\n",
       "\n",
       "    .dataframe tbody tr th {\n",
       "        vertical-align: top;\n",
       "    }\n",
       "\n",
       "    .dataframe thead th {\n",
       "        text-align: right;\n",
       "    }\n",
       "</style>\n",
       "<table border=\"1\" class=\"dataframe\">\n",
       "  <thead>\n",
       "    <tr style=\"text-align: right;\">\n",
       "      <th></th>\n",
       "      <th>match_id</th>\n",
       "      <th>period</th>\n",
       "      <th>statistic_category_name</th>\n",
       "      <th>statistic_name</th>\n",
       "      <th>home_stat</th>\n",
       "      <th>away_stat</th>\n",
       "      <th>compare_code</th>\n",
       "      <th>statistic_type</th>\n",
       "      <th>value_type</th>\n",
       "      <th>home_value</th>\n",
       "      <th>away_value</th>\n",
       "      <th>home_total</th>\n",
       "      <th>away_total</th>\n",
       "    </tr>\n",
       "  </thead>\n",
       "  <tbody>\n",
       "    <tr>\n",
       "      <th>0</th>\n",
       "      <td>11674074</td>\n",
       "      <td>ALL</td>\n",
       "      <td>service</td>\n",
       "      <td>aces</td>\n",
       "      <td>1</td>\n",
       "      <td>2</td>\n",
       "      <td>2</td>\n",
       "      <td>positive</td>\n",
       "      <td>event</td>\n",
       "      <td>1</td>\n",
       "      <td>2</td>\n",
       "      <td>NaN</td>\n",
       "      <td>NaN</td>\n",
       "    </tr>\n",
       "    <tr>\n",
       "      <th>1</th>\n",
       "      <td>11674074</td>\n",
       "      <td>ALL</td>\n",
       "      <td>service</td>\n",
       "      <td>double_faults</td>\n",
       "      <td>1</td>\n",
       "      <td>3</td>\n",
       "      <td>2</td>\n",
       "      <td>negative</td>\n",
       "      <td>event</td>\n",
       "      <td>1</td>\n",
       "      <td>3</td>\n",
       "      <td>NaN</td>\n",
       "      <td>NaN</td>\n",
       "    </tr>\n",
       "  </tbody>\n",
       "</table>\n",
       "</div>"
      ],
      "text/plain": [
       "   match_id period statistic_category_name statistic_name home_stat away_stat  \\\n",
       "0  11674074    ALL                 service           aces         1         2   \n",
       "1  11674074    ALL                 service  double_faults         1         3   \n",
       "\n",
       "   compare_code statistic_type value_type  home_value  away_value  home_total  \\\n",
       "0             2       positive      event           1           2         NaN   \n",
       "1             2       negative      event           1           3         NaN   \n",
       "\n",
       "   away_total  \n",
       "0         NaN  \n",
       "1         NaN  "
      ]
     },
     "execution_count": 81,
     "metadata": {},
     "output_type": "execute_result"
    }
   ],
   "source": [
    "df_statistics.head(2)"
   ]
  },
  {
   "cell_type": "code",
   "execution_count": null,
   "metadata": {},
   "outputs": [],
   "source": [
    "duble_foults_df = (df_statistics[['match_id'\n",
    "                                 , 'home_stat', 'away_stat'\n",
    "                                 , 'home_value', 'away_value']]\n",
    "                                    [(df_statistics['statistic_name'] == 'double_faults') & \n",
    "                                     (df_statistics['period'] == 'ALL')]).astype(int).reset_index()\n",
    "duble_foults_df.drop(columns=['index'], inplace=True)\n",
    "duble_foults_df['sum_stat'] = duble_foults_df[['home_stat', 'away_stat']].sum(axis=1)\n",
    "duble_foults_df"
   ]
  },
  {
   "cell_type": "code",
   "execution_count": 68,
   "metadata": {},
   "outputs": [],
   "source": [
    "home_team_gender = df_home_team[['match_id', 'gender']].drop_duplicates()\n",
    "away_team_gender = df_away_team[['match_id', 'gender']].drop_duplicates()"
   ]
  },
  {
   "cell_type": "code",
   "execution_count": 80,
   "metadata": {},
   "outputs": [
    {
     "data": {
      "text/html": [
       "<div>\n",
       "<style scoped>\n",
       "    .dataframe tbody tr th:only-of-type {\n",
       "        vertical-align: middle;\n",
       "    }\n",
       "\n",
       "    .dataframe tbody tr th {\n",
       "        vertical-align: top;\n",
       "    }\n",
       "\n",
       "    .dataframe thead th {\n",
       "        text-align: right;\n",
       "    }\n",
       "</style>\n",
       "<table border=\"1\" class=\"dataframe\">\n",
       "  <thead>\n",
       "    <tr style=\"text-align: right;\">\n",
       "      <th></th>\n",
       "      <th>match_id</th>\n",
       "      <th>home_stat</th>\n",
       "      <th>away_stat</th>\n",
       "      <th>home_value</th>\n",
       "      <th>away_value</th>\n",
       "      <th>sum_stat</th>\n",
       "      <th>gender_home</th>\n",
       "      <th>gender_away</th>\n",
       "    </tr>\n",
       "  </thead>\n",
       "  <tbody>\n",
       "    <tr>\n",
       "      <th>0</th>\n",
       "      <td>11674074</td>\n",
       "      <td>1</td>\n",
       "      <td>3</td>\n",
       "      <td>1</td>\n",
       "      <td>3</td>\n",
       "      <td>4</td>\n",
       "      <td>F</td>\n",
       "      <td>F</td>\n",
       "    </tr>\n",
       "    <tr>\n",
       "      <th>1</th>\n",
       "      <td>11674103</td>\n",
       "      <td>1</td>\n",
       "      <td>4</td>\n",
       "      <td>1</td>\n",
       "      <td>4</td>\n",
       "      <td>5</td>\n",
       "      <td>M</td>\n",
       "      <td>M</td>\n",
       "    </tr>\n",
       "    <tr>\n",
       "      <th>2</th>\n",
       "      <td>11674105</td>\n",
       "      <td>1</td>\n",
       "      <td>1</td>\n",
       "      <td>1</td>\n",
       "      <td>1</td>\n",
       "      <td>2</td>\n",
       "      <td>M</td>\n",
       "      <td>M</td>\n",
       "    </tr>\n",
       "    <tr>\n",
       "      <th>3</th>\n",
       "      <td>11674110</td>\n",
       "      <td>3</td>\n",
       "      <td>2</td>\n",
       "      <td>3</td>\n",
       "      <td>2</td>\n",
       "      <td>5</td>\n",
       "      <td>M</td>\n",
       "      <td>M</td>\n",
       "    </tr>\n",
       "    <tr>\n",
       "      <th>4</th>\n",
       "      <td>11674111</td>\n",
       "      <td>3</td>\n",
       "      <td>3</td>\n",
       "      <td>3</td>\n",
       "      <td>3</td>\n",
       "      <td>6</td>\n",
       "      <td>M</td>\n",
       "      <td>M</td>\n",
       "    </tr>\n",
       "    <tr>\n",
       "      <th>...</th>\n",
       "      <td>...</td>\n",
       "      <td>...</td>\n",
       "      <td>...</td>\n",
       "      <td>...</td>\n",
       "      <td>...</td>\n",
       "      <td>...</td>\n",
       "      <td>...</td>\n",
       "      <td>...</td>\n",
       "    </tr>\n",
       "    <tr>\n",
       "      <th>204</th>\n",
       "      <td>11703444</td>\n",
       "      <td>2</td>\n",
       "      <td>4</td>\n",
       "      <td>2</td>\n",
       "      <td>4</td>\n",
       "      <td>6</td>\n",
       "      <td>NaN</td>\n",
       "      <td>NaN</td>\n",
       "    </tr>\n",
       "    <tr>\n",
       "      <th>205</th>\n",
       "      <td>11703445</td>\n",
       "      <td>2</td>\n",
       "      <td>0</td>\n",
       "      <td>2</td>\n",
       "      <td>0</td>\n",
       "      <td>2</td>\n",
       "      <td>M</td>\n",
       "      <td>M</td>\n",
       "    </tr>\n",
       "    <tr>\n",
       "      <th>206</th>\n",
       "      <td>11703470</td>\n",
       "      <td>4</td>\n",
       "      <td>0</td>\n",
       "      <td>4</td>\n",
       "      <td>0</td>\n",
       "      <td>4</td>\n",
       "      <td>F</td>\n",
       "      <td>F</td>\n",
       "    </tr>\n",
       "    <tr>\n",
       "      <th>207</th>\n",
       "      <td>11703524</td>\n",
       "      <td>4</td>\n",
       "      <td>4</td>\n",
       "      <td>4</td>\n",
       "      <td>4</td>\n",
       "      <td>8</td>\n",
       "      <td>M</td>\n",
       "      <td>NaN</td>\n",
       "    </tr>\n",
       "    <tr>\n",
       "      <th>208</th>\n",
       "      <td>11703525</td>\n",
       "      <td>1</td>\n",
       "      <td>3</td>\n",
       "      <td>1</td>\n",
       "      <td>3</td>\n",
       "      <td>4</td>\n",
       "      <td>M</td>\n",
       "      <td>NaN</td>\n",
       "    </tr>\n",
       "  </tbody>\n",
       "</table>\n",
       "<p>209 rows × 8 columns</p>\n",
       "</div>"
      ],
      "text/plain": [
       "     match_id  home_stat  away_stat  home_value  away_value  sum_stat  \\\n",
       "0    11674074          1          3           1           3         4   \n",
       "1    11674103          1          4           1           4         5   \n",
       "2    11674105          1          1           1           1         2   \n",
       "3    11674110          3          2           3           2         5   \n",
       "4    11674111          3          3           3           3         6   \n",
       "..        ...        ...        ...         ...         ...       ...   \n",
       "204  11703444          2          4           2           4         6   \n",
       "205  11703445          2          0           2           0         2   \n",
       "206  11703470          4          0           4           0         4   \n",
       "207  11703524          4          4           4           4         8   \n",
       "208  11703525          1          3           1           3         4   \n",
       "\n",
       "    gender_home gender_away  \n",
       "0             F           F  \n",
       "1             M           M  \n",
       "2             M           M  \n",
       "3             M           M  \n",
       "4             M           M  \n",
       "..          ...         ...  \n",
       "204         NaN         NaN  \n",
       "205           M           M  \n",
       "206           F           F  \n",
       "207           M         NaN  \n",
       "208           M         NaN  \n",
       "\n",
       "[209 rows x 8 columns]"
      ]
     },
     "execution_count": 80,
     "metadata": {},
     "output_type": "execute_result"
    }
   ],
   "source": [
    "dfoults_gender = pd.merge(duble_foults_df,\n",
    "                          home_team_gender,\n",
    "                          on='match_id', how='inner')\n",
    "dfoults_gender = pd.merge(dfoults_gender,\n",
    "                          away_team_gender,\n",
    "                          suffixes= ('_home', '_away'),\n",
    "                          on='match_id', how='inner')\n",
    "dfoults_gender.drop_duplicates(subset=['match_id'], inplace=True)\n",
    "dfoults_gender.reset_index(drop=True, inplace=True)\n",
    "dfoults_gender"
   ]
  },
  {
   "cell_type": "code",
   "execution_count": 101,
   "metadata": {},
   "outputs": [
    {
     "data": {
      "text/html": [
       "<div>\n",
       "<style scoped>\n",
       "    .dataframe tbody tr th:only-of-type {\n",
       "        vertical-align: middle;\n",
       "    }\n",
       "\n",
       "    .dataframe tbody tr th {\n",
       "        vertical-align: top;\n",
       "    }\n",
       "\n",
       "    .dataframe thead th {\n",
       "        text-align: right;\n",
       "    }\n",
       "</style>\n",
       "<table border=\"1\" class=\"dataframe\">\n",
       "  <thead>\n",
       "    <tr style=\"text-align: right;\">\n",
       "      <th></th>\n",
       "      <th>gender_home</th>\n",
       "      <th>home_stat</th>\n",
       "      <th>gender_away</th>\n",
       "      <th>away_stat</th>\n",
       "      <th>total_stat</th>\n",
       "    </tr>\n",
       "  </thead>\n",
       "  <tbody>\n",
       "    <tr>\n",
       "      <th>0</th>\n",
       "      <td>F</td>\n",
       "      <td>361</td>\n",
       "      <td>F</td>\n",
       "      <td>342</td>\n",
       "      <td>703</td>\n",
       "    </tr>\n",
       "    <tr>\n",
       "      <th>1</th>\n",
       "      <td>M</td>\n",
       "      <td>186</td>\n",
       "      <td>M</td>\n",
       "      <td>127</td>\n",
       "      <td>313</td>\n",
       "    </tr>\n",
       "  </tbody>\n",
       "</table>\n",
       "</div>"
      ],
      "text/plain": [
       "  gender_home  home_stat gender_away  away_stat  total_stat\n",
       "0           F        361           F        342         703\n",
       "1           M        186           M        127         313"
      ]
     },
     "execution_count": 101,
     "metadata": {},
     "output_type": "execute_result"
    }
   ],
   "source": [
    "dfoults_gender_home = dfoults_gender.groupby('gender_home', as_index=False).agg({'home_stat' : 'sum'})\n",
    "dfoults_gender_away = dfoults_gender.groupby('gender_away', as_index=False).agg({'away_stat' : 'sum'})\n",
    "dfoult_final_df = dfoults_gender_home.join(dfoults_gender_away)\n",
    "dfoult_final_df['total_stat'] = dfoult_final_df['away_stat'] + dfoult_final_df['home_stat']\n",
    "dfoult_final_df"
   ]
  },
  {
   "cell_type": "code",
   "execution_count": 102,
   "metadata": {},
   "outputs": [
    {
     "data": {
      "text/plain": [
       "<Axes: >"
      ]
     },
     "execution_count": 102,
     "metadata": {},
     "output_type": "execute_result"
    },
    {
     "data": {
      "image/png": "[encoded data removed]",
      "text/plain": [
       "<Figure size 432x288 with 1 Axes>"
      ]
     },
     "metadata": {
      "needs_background": "light"
     },
     "output_type": "display_data"
    }
   ],
   "source": [
    "dfoult_final_df.plot(kind='bar')"
   ]
  },
  {
   "cell_type": "markdown",
   "metadata": {},
   "source": [
    "## 9. Which player has won the most tournaments in a single month?"
   ]
  },
  {
   "cell_type": "code",
   "execution_count": 112,
   "metadata": {},
   "outputs": [
    {
     "name": "stderr",
     "output_type": "stream",
     "text": [
      "C:\\Users\\Lenovo\\AppData\\Local\\Temp\\ipykernel_3136\\2868825605.py:2: SettingWithCopyWarning: \n",
      "A value is trying to be set on a copy of a slice from a DataFrame.\n",
      "Try using .loc[row_indexer,col_indexer] = value instead\n",
      "\n",
      "See the caveats in the documentation: https://pandas.pydata.org/pandas-docs/stable/user_guide/indexing.html#returning-a-view-versus-a-copy\n",
      "  match_win_mounth['start_datetime'] = pd.to_datetime(match_win_mounth['start_datetime'], unit='s')\n",
      "C:\\Users\\Lenovo\\AppData\\Local\\Temp\\ipykernel_3136\\2868825605.py:3: SettingWithCopyWarning: \n",
      "A value is trying to be set on a copy of a slice from a DataFrame.\n",
      "Try using .loc[row_indexer,col_indexer] = value instead\n",
      "\n",
      "See the caveats in the documentation: https://pandas.pydata.org/pandas-docs/stable/user_guide/indexing.html#returning-a-view-versus-a-copy\n",
      "  match_win_mounth['mounth'] = match_win_mounth['start_datetime'].dt.month\n",
      "C:\\Users\\Lenovo\\AppData\\Local\\Temp\\ipykernel_3136\\2868825605.py:4: SettingWithCopyWarning: \n",
      "A value is trying to be set on a copy of a slice from a DataFrame\n",
      "\n",
      "See the caveats in the documentation: https://pandas.pydata.org/pandas-docs/stable/user_guide/indexing.html#returning-a-view-versus-a-copy\n",
      "  match_win_mounth.drop(columns=['start_datetime'], inplace=True)\n"
     ]
    },
    {
     "data": {
      "text/html": [
       "<div>\n",
       "<style scoped>\n",
       "    .dataframe tbody tr th:only-of-type {\n",
       "        vertical-align: middle;\n",
       "    }\n",
       "\n",
       "    .dataframe tbody tr th {\n",
       "        vertical-align: top;\n",
       "    }\n",
       "\n",
       "    .dataframe thead th {\n",
       "        text-align: right;\n",
       "    }\n",
       "</style>\n",
       "<table border=\"1\" class=\"dataframe\">\n",
       "  <thead>\n",
       "    <tr style=\"text-align: right;\">\n",
       "      <th></th>\n",
       "      <th>match_id</th>\n",
       "      <th>winner_code</th>\n",
       "      <th>mounth</th>\n",
       "    </tr>\n",
       "  </thead>\n",
       "  <tbody>\n",
       "    <tr>\n",
       "      <th>0</th>\n",
       "      <td>11673958</td>\n",
       "      <td>2.0</td>\n",
       "      <td>9</td>\n",
       "    </tr>\n",
       "    <tr>\n",
       "      <th>1</th>\n",
       "      <td>11673962</td>\n",
       "      <td>1.0</td>\n",
       "      <td>10</td>\n",
       "    </tr>\n",
       "    <tr>\n",
       "      <th>2</th>\n",
       "      <td>11673963</td>\n",
       "      <td>1.0</td>\n",
       "      <td>9</td>\n",
       "    </tr>\n",
       "    <tr>\n",
       "      <th>3</th>\n",
       "      <td>11673993</td>\n",
       "      <td>2.0</td>\n",
       "      <td>10</td>\n",
       "    </tr>\n",
       "    <tr>\n",
       "      <th>4</th>\n",
       "      <td>11674000</td>\n",
       "      <td>2.0</td>\n",
       "      <td>9</td>\n",
       "    </tr>\n",
       "    <tr>\n",
       "      <th>...</th>\n",
       "      <td>...</td>\n",
       "      <td>...</td>\n",
       "      <td>...</td>\n",
       "    </tr>\n",
       "    <tr>\n",
       "      <th>759</th>\n",
       "      <td>11703444</td>\n",
       "      <td>1.0</td>\n",
       "      <td>10</td>\n",
       "    </tr>\n",
       "    <tr>\n",
       "      <th>760</th>\n",
       "      <td>11703445</td>\n",
       "      <td>1.0</td>\n",
       "      <td>10</td>\n",
       "    </tr>\n",
       "    <tr>\n",
       "      <th>761</th>\n",
       "      <td>11703470</td>\n",
       "      <td>1.0</td>\n",
       "      <td>10</td>\n",
       "    </tr>\n",
       "    <tr>\n",
       "      <th>762</th>\n",
       "      <td>11703524</td>\n",
       "      <td>1.0</td>\n",
       "      <td>10</td>\n",
       "    </tr>\n",
       "    <tr>\n",
       "      <th>763</th>\n",
       "      <td>11703525</td>\n",
       "      <td>1.0</td>\n",
       "      <td>10</td>\n",
       "    </tr>\n",
       "  </tbody>\n",
       "</table>\n",
       "<p>764 rows × 3 columns</p>\n",
       "</div>"
      ],
      "text/plain": [
       "     match_id  winner_code  mounth\n",
       "0    11673958          2.0       9\n",
       "1    11673962          1.0      10\n",
       "2    11673963          1.0       9\n",
       "3    11673993          2.0      10\n",
       "4    11674000          2.0       9\n",
       "..        ...          ...     ...\n",
       "759  11703444          1.0      10\n",
       "760  11703445          1.0      10\n",
       "761  11703470          1.0      10\n",
       "762  11703524          1.0      10\n",
       "763  11703525          1.0      10\n",
       "\n",
       "[764 rows x 3 columns]"
      ]
     },
     "execution_count": 112,
     "metadata": {},
     "output_type": "execute_result"
    }
   ],
   "source": [
    "match_win_mounth = df_event[['match_id', 'winner_code', 'start_datetime']]\n",
    "match_win_mounth['start_datetime'] = pd.to_datetime(match_win_mounth['start_datetime'], unit='s')\n",
    "match_win_mounth['mounth'] = match_win_mounth['start_datetime'].dt.month\n",
    "match_win_mounth.drop(columns=['start_datetime'], inplace=True)\n",
    "match_win_mounth"
   ]
  },
  {
   "cell_type": "code",
   "execution_count": 119,
   "metadata": {},
   "outputs": [],
   "source": [
    "match_h_player = df_home_team[['match_id', 'name']].drop_duplicates()\n",
    "match_a_player = df_away_team[['match_id', 'name']].drop_duplicates()"
   ]
  },
  {
   "cell_type": "code",
   "execution_count": 154,
   "metadata": {},
   "outputs": [],
   "source": [
    "win_h_player = pd.merge(match_win_mounth.loc[match_win_mounth['winner_code'] == 1], match_h_player)\n",
    "win_h_player.drop_duplicates(subset = ['match_id'], keep = 'first', inplace = True)\n",
    "win_h_player.dropna(inplace = True)\n",
    "win_a_player = pd.merge(match_win_mounth.loc[match_win_mounth['winner_code'] == 2], match_a_player)\n",
    "win_a_player.drop_duplicates(subset = ['match_id'], keep = 'first', inplace = True)\n",
    "win_a_player.dropna(inplace = True)\n",
    "winners_name = pd.concat([win_h_player, win_a_player], axis = 0, ignore_index = True)"
   ]
  },
  {
   "cell_type": "code",
   "execution_count": 201,
   "metadata": {},
   "outputs": [
    {
     "data": {
      "text/html": [
       "<div>\n",
       "<style scoped>\n",
       "    .dataframe tbody tr th:only-of-type {\n",
       "        vertical-align: middle;\n",
       "    }\n",
       "\n",
       "    .dataframe tbody tr th {\n",
       "        vertical-align: top;\n",
       "    }\n",
       "\n",
       "    .dataframe thead th {\n",
       "        text-align: right;\n",
       "    }\n",
       "</style>\n",
       "<table border=\"1\" class=\"dataframe\">\n",
       "  <thead>\n",
       "    <tr style=\"text-align: right;\">\n",
       "      <th></th>\n",
       "      <th>match_id</th>\n",
       "      <th>winner_code</th>\n",
       "      <th>mounth</th>\n",
       "      <th>name</th>\n",
       "    </tr>\n",
       "  </thead>\n",
       "  <tbody>\n",
       "    <tr>\n",
       "      <th>0</th>\n",
       "      <td>11673962</td>\n",
       "      <td>1.0</td>\n",
       "      <td>10</td>\n",
       "      <td>Tirante T.</td>\n",
       "    </tr>\n",
       "    <tr>\n",
       "      <th>1</th>\n",
       "      <td>11673963</td>\n",
       "      <td>1.0</td>\n",
       "      <td>9</td>\n",
       "      <td>Heide G.</td>\n",
       "    </tr>\n",
       "    <tr>\n",
       "      <th>2</th>\n",
       "      <td>11674008</td>\n",
       "      <td>1.0</td>\n",
       "      <td>9</td>\n",
       "      <td>Shelbayh A.</td>\n",
       "    </tr>\n",
       "    <tr>\n",
       "      <th>3</th>\n",
       "      <td>11674032</td>\n",
       "      <td>1.0</td>\n",
       "      <td>10</td>\n",
       "      <td>Machač T.</td>\n",
       "    </tr>\n",
       "    <tr>\n",
       "      <th>4</th>\n",
       "      <td>11674034</td>\n",
       "      <td>1.0</td>\n",
       "      <td>9</td>\n",
       "      <td>Draper J.</td>\n",
       "    </tr>\n",
       "    <tr>\n",
       "      <th>...</th>\n",
       "      <td>...</td>\n",
       "      <td>...</td>\n",
       "      <td>...</td>\n",
       "      <td>...</td>\n",
       "    </tr>\n",
       "    <tr>\n",
       "      <th>497</th>\n",
       "      <td>11702232</td>\n",
       "      <td>2.0</td>\n",
       "      <td>10</td>\n",
       "      <td>Aguilar Cardozo J.</td>\n",
       "    </tr>\n",
       "    <tr>\n",
       "      <th>498</th>\n",
       "      <td>11702238</td>\n",
       "      <td>2.0</td>\n",
       "      <td>10</td>\n",
       "      <td>Derdoy F.</td>\n",
       "    </tr>\n",
       "    <tr>\n",
       "      <th>499</th>\n",
       "      <td>11702243</td>\n",
       "      <td>2.0</td>\n",
       "      <td>10</td>\n",
       "      <td>Mouilleron Salvo M.</td>\n",
       "    </tr>\n",
       "    <tr>\n",
       "      <th>500</th>\n",
       "      <td>11702248</td>\n",
       "      <td>2.0</td>\n",
       "      <td>10</td>\n",
       "      <td>Noel M.</td>\n",
       "    </tr>\n",
       "    <tr>\n",
       "      <th>501</th>\n",
       "      <td>11703443</td>\n",
       "      <td>2.0</td>\n",
       "      <td>10</td>\n",
       "      <td>Kalina V.</td>\n",
       "    </tr>\n",
       "  </tbody>\n",
       "</table>\n",
       "<p>502 rows × 4 columns</p>\n",
       "</div>"
      ],
      "text/plain": [
       "     match_id  winner_code  mounth                 name\n",
       "0    11673962          1.0      10           Tirante T.\n",
       "1    11673963          1.0       9             Heide G.\n",
       "2    11674008          1.0       9          Shelbayh A.\n",
       "3    11674032          1.0      10            Machač T.\n",
       "4    11674034          1.0       9            Draper J.\n",
       "..        ...          ...     ...                  ...\n",
       "497  11702232          2.0      10   Aguilar Cardozo J.\n",
       "498  11702238          2.0      10            Derdoy F.\n",
       "499  11702243          2.0      10  Mouilleron Salvo M.\n",
       "500  11702248          2.0      10              Noel M.\n",
       "501  11703443          2.0      10            Kalina V.\n",
       "\n",
       "[502 rows x 4 columns]"
      ]
     },
     "execution_count": 201,
     "metadata": {},
     "output_type": "execute_result"
    }
   ],
   "source": [
    "winners_name"
   ]
  },
  {
   "cell_type": "code",
   "execution_count": 188,
   "metadata": {},
   "outputs": [],
   "source": [
    "win_counts = (winners_name.groupby('mounth').\n",
    " agg({'name': 'value_counts'}).\n",
    " rename(columns={'name' : 'win_counts'}).\n",
    " sort_values('win_counts', ascending=False))"
   ]
  },
  {
   "cell_type": "code",
   "execution_count": 195,
   "metadata": {},
   "outputs": [
    {
     "data": {
      "text/html": [
       "<div>\n",
       "<style scoped>\n",
       "    .dataframe tbody tr th:only-of-type {\n",
       "        vertical-align: middle;\n",
       "    }\n",
       "\n",
       "    .dataframe tbody tr th {\n",
       "        vertical-align: top;\n",
       "    }\n",
       "\n",
       "    .dataframe thead th {\n",
       "        text-align: right;\n",
       "    }\n",
       "</style>\n",
       "<table border=\"1\" class=\"dataframe\">\n",
       "  <thead>\n",
       "    <tr style=\"text-align: right;\">\n",
       "      <th></th>\n",
       "      <th></th>\n",
       "      <th>win_counts</th>\n",
       "    </tr>\n",
       "    <tr>\n",
       "      <th>mounth</th>\n",
       "      <th>name</th>\n",
       "      <th></th>\n",
       "    </tr>\n",
       "  </thead>\n",
       "  <tbody>\n",
       "    <tr>\n",
       "      <th rowspan=\"3\" valign=\"top\">10</th>\n",
       "      <th>Kalina V.</th>\n",
       "      <td>3</td>\n",
       "    </tr>\n",
       "    <tr>\n",
       "      <th>Milushev P.</th>\n",
       "      <td>3</td>\n",
       "    </tr>\n",
       "    <tr>\n",
       "      <th>Panaras A.</th>\n",
       "      <td>3</td>\n",
       "    </tr>\n",
       "  </tbody>\n",
       "</table>\n",
       "</div>"
      ],
      "text/plain": [
       "                    win_counts\n",
       "mounth name                   \n",
       "10     Kalina V.             3\n",
       "       Milushev P.           3\n",
       "       Panaras A.            3"
      ]
     },
     "execution_count": 195,
     "metadata": {},
     "output_type": "execute_result"
    }
   ],
   "source": [
    "win_counts.loc[win_counts['win_counts'] == win_counts['win_counts'].max()]"
   ]
  },
  {
   "cell_type": "markdown",
   "metadata": {},
   "source": [
    "<span style=\"color:red\">bug</span> : \"Beijing, China\" has two ids in df_tournomets :  (121516, 121644)"
   ]
  },
  {
   "cell_type": "code",
   "execution_count": 220,
   "metadata": {},
   "outputs": [],
   "source": [
    "tourn = df_tournament[['match_id', 'tournament_id']]"
   ]
  },
  {
   "cell_type": "code",
   "execution_count": 233,
   "metadata": {},
   "outputs": [
    {
     "data": {
      "text/html": [
       "<div>\n",
       "<style scoped>\n",
       "    .dataframe tbody tr th:only-of-type {\n",
       "        vertical-align: middle;\n",
       "    }\n",
       "\n",
       "    .dataframe tbody tr th {\n",
       "        vertical-align: top;\n",
       "    }\n",
       "\n",
       "    .dataframe thead th {\n",
       "        text-align: right;\n",
       "    }\n",
       "</style>\n",
       "<table border=\"1\" class=\"dataframe\">\n",
       "  <thead>\n",
       "    <tr style=\"text-align: right;\">\n",
       "      <th></th>\n",
       "      <th></th>\n",
       "      <th></th>\n",
       "      <th>win_counts</th>\n",
       "    </tr>\n",
       "    <tr>\n",
       "      <th>mounth</th>\n",
       "      <th>tournament_id</th>\n",
       "      <th>name</th>\n",
       "      <th></th>\n",
       "    </tr>\n",
       "  </thead>\n",
       "  <tbody>\n",
       "    <tr>\n",
       "      <th rowspan=\"11\" valign=\"top\">10</th>\n",
       "      <th>121868</th>\n",
       "      <th>Panaras A.</th>\n",
       "      <td>3</td>\n",
       "    </tr>\n",
       "    <tr>\n",
       "      <th>121843</th>\n",
       "      <th>Milushev P.</th>\n",
       "      <td>3</td>\n",
       "    </tr>\n",
       "    <tr>\n",
       "      <th>121868</th>\n",
       "      <th>Kalina V.</th>\n",
       "      <td>3</td>\n",
       "    </tr>\n",
       "    <tr>\n",
       "      <th rowspan=\"2\" valign=\"top\">121871</th>\n",
       "      <th>Fery A.</th>\n",
       "      <td>2</td>\n",
       "    </tr>\n",
       "    <tr>\n",
       "      <th>Karlovskiy E.</th>\n",
       "      <td>2</td>\n",
       "    </tr>\n",
       "    <tr>\n",
       "      <th>...</th>\n",
       "      <th>...</th>\n",
       "      <td>...</td>\n",
       "    </tr>\n",
       "    <tr>\n",
       "      <th rowspan=\"4\" valign=\"top\">121846</th>\n",
       "      <th>Rachapudi P.</th>\n",
       "      <td>1</td>\n",
       "    </tr>\n",
       "    <tr>\n",
       "      <th>Nikolenko T.</th>\n",
       "      <td>1</td>\n",
       "    </tr>\n",
       "    <tr>\n",
       "      <th>Martellenghi E.</th>\n",
       "      <td>1</td>\n",
       "    </tr>\n",
       "    <tr>\n",
       "      <th>Drozd M.</th>\n",
       "      <td>1</td>\n",
       "    </tr>\n",
       "    <tr>\n",
       "      <th>121898</th>\n",
       "      <th>Noel M.</th>\n",
       "      <td>1</td>\n",
       "    </tr>\n",
       "  </tbody>\n",
       "</table>\n",
       "<p>385 rows × 1 columns</p>\n",
       "</div>"
      ],
      "text/plain": [
       "                                      win_counts\n",
       "mounth tournament_id name                       \n",
       "10     121868        Panaras A.                3\n",
       "       121843        Milushev P.               3\n",
       "       121868        Kalina V.                 3\n",
       "       121871        Fery A.                   2\n",
       "                     Karlovskiy E.             2\n",
       "...                                          ...\n",
       "       121846        Rachapudi P.              1\n",
       "                     Nikolenko T.              1\n",
       "                     Martellenghi E.           1\n",
       "                     Drozd M.                  1\n",
       "       121898        Noel M.                   1\n",
       "\n",
       "[385 rows x 1 columns]"
      ]
     },
     "execution_count": 233,
     "metadata": {},
     "output_type": "execute_result"
    }
   ],
   "source": [
    "winners_name_tourn = pd.merge(winners_name, tourn)\n",
    "win_counts_tourn = (winners_name_tourn.groupby(['mounth', 'tournament_id']).\n",
    " agg({'name': 'value_counts'}).\n",
    " rename(columns={'name' : 'win_counts'}).\n",
    " sort_values('win_counts', ascending=False))\n",
    "win_counts_tourn"
   ]
  },
  {
   "cell_type": "code",
   "execution_count": 235,
   "metadata": {},
   "outputs": [
    {
     "data": {
      "text/html": [
       "<div>\n",
       "<style scoped>\n",
       "    .dataframe tbody tr th:only-of-type {\n",
       "        vertical-align: middle;\n",
       "    }\n",
       "\n",
       "    .dataframe tbody tr th {\n",
       "        vertical-align: top;\n",
       "    }\n",
       "\n",
       "    .dataframe thead th {\n",
       "        text-align: right;\n",
       "    }\n",
       "</style>\n",
       "<table border=\"1\" class=\"dataframe\">\n",
       "  <thead>\n",
       "    <tr style=\"text-align: right;\">\n",
       "      <th></th>\n",
       "      <th></th>\n",
       "      <th></th>\n",
       "      <th>win_counts</th>\n",
       "    </tr>\n",
       "    <tr>\n",
       "      <th>mounth</th>\n",
       "      <th>tournament_id</th>\n",
       "      <th>name</th>\n",
       "      <th></th>\n",
       "    </tr>\n",
       "  </thead>\n",
       "  <tbody>\n",
       "    <tr>\n",
       "      <th rowspan=\"3\" valign=\"top\">10</th>\n",
       "      <th>121868</th>\n",
       "      <th>Panaras A.</th>\n",
       "      <td>3</td>\n",
       "    </tr>\n",
       "    <tr>\n",
       "      <th>121843</th>\n",
       "      <th>Milushev P.</th>\n",
       "      <td>3</td>\n",
       "    </tr>\n",
       "    <tr>\n",
       "      <th>121868</th>\n",
       "      <th>Kalina V.</th>\n",
       "      <td>3</td>\n",
       "    </tr>\n",
       "  </tbody>\n",
       "</table>\n",
       "</div>"
      ],
      "text/plain": [
       "                                  win_counts\n",
       "mounth tournament_id name                   \n",
       "10     121868        Panaras A.            3\n",
       "       121843        Milushev P.           3\n",
       "       121868        Kalina V.             3"
      ]
     },
     "execution_count": 235,
     "metadata": {},
     "output_type": "execute_result"
    }
   ],
   "source": [
    "win_counts_tourn.loc[win_counts_tourn['win_counts'] == win_counts_tourn['win_counts'].max()]"
   ]
  },
  {
   "cell_type": "markdown",
   "metadata": {},
   "source": [
    "## 10. Is there a correlation between a player's height and their ranking?"
   ]
  },
  {
   "cell_type": "code",
   "execution_count": 263,
   "metadata": {},
   "outputs": [],
   "source": [
    "height_rank = (pd.concat([df_away_team[['name', 'height', 'current_rank']],\n",
    "                df_home_team[['name', 'height', 'current_rank']]]))\n",
    "height_rank.dropna(subset='current_rank', inplace=True)\n",
    "height_rank_mean = height_rank.fillna(value=height_rank['height'].mean())"
   ]
  },
  {
   "cell_type": "code",
   "execution_count": 269,
   "metadata": {},
   "outputs": [
    {
     "data": {
      "text/html": [
       "<div>\n",
       "<style scoped>\n",
       "    .dataframe tbody tr th:only-of-type {\n",
       "        vertical-align: middle;\n",
       "    }\n",
       "\n",
       "    .dataframe tbody tr th {\n",
       "        vertical-align: top;\n",
       "    }\n",
       "\n",
       "    .dataframe thead th {\n",
       "        text-align: right;\n",
       "    }\n",
       "</style>\n",
       "<table border=\"1\" class=\"dataframe\">\n",
       "  <thead>\n",
       "    <tr style=\"text-align: right;\">\n",
       "      <th></th>\n",
       "      <th>height</th>\n",
       "      <th>current_rank</th>\n",
       "    </tr>\n",
       "  </thead>\n",
       "  <tbody>\n",
       "    <tr>\n",
       "      <th>height</th>\n",
       "      <td>1.000000</td>\n",
       "      <td>0.033658</td>\n",
       "    </tr>\n",
       "    <tr>\n",
       "      <th>current_rank</th>\n",
       "      <td>0.033658</td>\n",
       "      <td>1.000000</td>\n",
       "    </tr>\n",
       "  </tbody>\n",
       "</table>\n",
       "</div>"
      ],
      "text/plain": [
       "                height  current_rank\n",
       "height        1.000000      0.033658\n",
       "current_rank  0.033658      1.000000"
      ]
     },
     "execution_count": 269,
     "metadata": {},
     "output_type": "execute_result"
    }
   ],
   "source": [
    "height_rank.corr(method='pearson')"
   ]
  },
  {
   "cell_type": "code",
   "execution_count": 270,
   "metadata": {},
   "outputs": [
    {
     "data": {
      "text/html": [
       "<div>\n",
       "<style scoped>\n",
       "    .dataframe tbody tr th:only-of-type {\n",
       "        vertical-align: middle;\n",
       "    }\n",
       "\n",
       "    .dataframe tbody tr th {\n",
       "        vertical-align: top;\n",
       "    }\n",
       "\n",
       "    .dataframe thead th {\n",
       "        text-align: right;\n",
       "    }\n",
       "</style>\n",
       "<table border=\"1\" class=\"dataframe\">\n",
       "  <thead>\n",
       "    <tr style=\"text-align: right;\">\n",
       "      <th></th>\n",
       "      <th>height</th>\n",
       "      <th>current_rank</th>\n",
       "    </tr>\n",
       "  </thead>\n",
       "  <tbody>\n",
       "    <tr>\n",
       "      <th>height</th>\n",
       "      <td>1.000000</td>\n",
       "      <td>0.024227</td>\n",
       "    </tr>\n",
       "    <tr>\n",
       "      <th>current_rank</th>\n",
       "      <td>0.024227</td>\n",
       "      <td>1.000000</td>\n",
       "    </tr>\n",
       "  </tbody>\n",
       "</table>\n",
       "</div>"
      ],
      "text/plain": [
       "                height  current_rank\n",
       "height        1.000000      0.024227\n",
       "current_rank  0.024227      1.000000"
      ]
     },
     "execution_count": 270,
     "metadata": {},
     "output_type": "execute_result"
    }
   ],
   "source": [
    "height_rank_mean.corr(method='pearson')"
   ]
  },
  {
   "cell_type": "code",
   "execution_count": 272,
   "metadata": {},
   "outputs": [
    {
     "data": {
      "image/png": "[encoded data removed]",
      "text/plain": [
       "<Figure size 432x288 with 1 Axes>"
      ]
     },
     "metadata": {
      "needs_background": "light"
     },
     "output_type": "display_data"
    }
   ],
   "source": [
    "plt.scatter(height_rank['height'], height_rank['current_rank'])\n",
    "plt.xlabel('Height')\n",
    "plt.ylabel('Rank')\n",
    "plt.title('Height vs Rank')\n",
    "plt.show()"
   ]
  }
 ],
 "metadata": {
  "kernelspec": {
   "display_name": "Python 3",
   "language": "python",
   "name": "python3"
  },
  "language_info": {
   "codemirror_mode": {
    "name": "ipython",
    "version": 3
   },
   "file_extension": ".py",
   "mimetype": "text/x-python",
   "name": "python",
   "nbconvert_exporter": "python",
   "pygments_lexer": "ipython3",
   "version": "3.10.4"
  }
 },
 "nbformat": 4,
 "nbformat_minor": 2
}
